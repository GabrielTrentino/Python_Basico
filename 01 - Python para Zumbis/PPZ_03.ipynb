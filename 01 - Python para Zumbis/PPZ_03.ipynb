{
  "nbformat": 4,
  "nbformat_minor": 0,
  "metadata": {
    "colab": {
      "name": "PPZ 03.ipynb",
      "provenance": []
    },
    "kernelspec": {
      "name": "python3",
      "display_name": "Python 3"
    },
    "language_info": {
      "name": "python"
    }
  },
  "cells": [
    {
      "cell_type": "markdown",
      "metadata": {
        "id": "ezGsF9F5lXfg"
      },
      "source": [
        "# Lista de Exercício 03:"
      ]
    },
    {
      "cell_type": "markdown",
      "metadata": {
        "id": "NkiEc2WRlTk_"
      },
      "source": [
        "## Q01: Faça um programa que peça uma nota, entre zero e dez. Mostre uma mensagem caso o valor seja inválido e continue pedindo até que o usuário informe um valor válido."
      ]
    },
    {
      "cell_type": "code",
      "metadata": {
        "colab": {
          "base_uri": "https://localhost:8080/"
        },
        "id": "B66-Af7plgEU",
        "outputId": "21c90fb5-2e6f-4935-a76b-ea6af26b2edd"
      },
      "source": [
        "while True:\n",
        "  try:\n",
        "    nota = int(input('Digite uma nota de 0 a 10: '))\n",
        "    if (nota >= 0) & (nota <= 10):\n",
        "      print(\"Ok, validado.\")\n",
        "      break\n",
        "    else:\n",
        "      print('Valor não valido')\n",
        "  except:\n",
        "    print('Digite um número valido')"
      ],
      "execution_count": 1,
      "outputs": [
        {
          "output_type": "stream",
          "text": [
            "Digite uma nota de 0 a 10: gfd\n",
            "Digite um número valido\n",
            "Digite uma nota de 0 a 10: 39\n",
            "Valor não valido\n",
            "Digite uma nota de 0 a 10: 3\n",
            "Ok, validado.\n"
          ],
          "name": "stdout"
        }
      ]
    },
    {
      "cell_type": "markdown",
      "metadata": {
        "id": "x59FZ9Cml24p"
      },
      "source": [
        "## Q02 - Faça um programa que leia um nome de usuário e a sua senha e não aceite a senha igual ao nome do usuário, mostrando uma mensagem de erro e voltando a pedir as informações."
      ]
    },
    {
      "cell_type": "code",
      "metadata": {
        "colab": {
          "base_uri": "https://localhost:8080/"
        },
        "id": "LQfu2NJRmHB8",
        "outputId": "8b703719-5cbc-41b7-ec3d-31bf7fee7db2"
      },
      "source": [
        "while True:\n",
        "  user = input('Digite seu usario: ')\n",
        "  senha = input('Digite sua senha: ')\n",
        "  if user == senha:\n",
        "    print('Usuario e senhas iguais, digite novamente.')\n",
        "  else:\n",
        "    print('Validado')\n",
        "    break"
      ],
      "execution_count": 2,
      "outputs": [
        {
          "output_type": "stream",
          "text": [
            "Digite seu usario: 5626\n",
            "Digite sua senha: 5626\n",
            "Usuario e senhas iguais, digite novamente.\n",
            "Digite seu usario: gabriel\n",
            "Digite sua senha: 123\n",
            "Validado\n"
          ],
          "name": "stdout"
        }
      ]
    },
    {
      "cell_type": "markdown",
      "metadata": {
        "id": "iYt94yQMmot-"
      },
      "source": [
        "## Q03 - Supondo que a população de um país A seja da ordem de 80000 habitantes com uma taxa anual de crescimento de 3% e que a população de B seja 200000 habitantes com uma taxa de crescimento de 1.5%. Faça um programa que calcule e escreva o número de anos necessários para que a população do país A ultrapasse ou iguale a população do país B, mantidas as taxas de crescimento\n"
      ]
    },
    {
      "cell_type": "code",
      "metadata": {
        "colab": {
          "base_uri": "https://localhost:8080/"
        },
        "id": "YtzkPBAPmw8U",
        "outputId": "e965c4de-f273-42ad-ec3c-9331d08ebafd"
      },
      "source": [
        "pop_A = 8000\n",
        "pop_B = 200000\n",
        "ano = 0\n",
        "while True:\n",
        "  ano += 1\n",
        "  pop_A = pop_A*1.03\n",
        "  pop_B = pop_B*1.015\n",
        "  if pop_A > pop_B:\n",
        "    break\n",
        "print('Em {} anos a Cidade A terá mais habitantes que a cidade B'.format(ano))"
      ],
      "execution_count": 3,
      "outputs": [
        {
          "output_type": "stream",
          "text": [
            "Em 220 anos a Cidade A terá mais habitantes que a cidade B\n"
          ],
          "name": "stdout"
        }
      ]
    },
    {
      "cell_type": "markdown",
      "metadata": {
        "id": "CEHGGEUEnM_E"
      },
      "source": [
        "## Q04 - A seqüência de Fibonacci é a seguinte: 1, 1, 2, 3, 5, 8, 13, 21, 34, 55, ... Sua regra de formação é simples: os dois primeiros elementos são 1; a partir de então, cada elemento é a soma dos dois anteriores. Faça um algoritmo que leia um número inteiro calcule o seu número de Fibonacci. F1 = 1, F2 = 1, F3 = 2, etc.\n"
      ]
    },
    {
      "cell_type": "code",
      "metadata": {
        "colab": {
          "base_uri": "https://localhost:8080/"
        },
        "id": "ae_kEohSnelz",
        "outputId": "4db5573d-94b0-4a2e-d3d2-78c62ad28156"
      },
      "source": [
        "num = int(input('Digite o número: '))\n",
        "fib = []\n",
        "for i in range(num):\n",
        "  if (i==0) | (i==1):\n",
        "    fib.append(1)\n",
        "    print(fib)\n",
        "  else:\n",
        "    fib.append(fib[-2]+fib[-1])\n",
        "    print(fib)\n",
        "print(fib[-1])"
      ],
      "execution_count": 4,
      "outputs": [
        {
          "output_type": "stream",
          "text": [
            "Digite o número: 9\n",
            "[1]\n",
            "[1, 1]\n",
            "[1, 1, 2]\n",
            "[1, 1, 2, 3]\n",
            "[1, 1, 2, 3, 5]\n",
            "[1, 1, 2, 3, 5, 8]\n",
            "[1, 1, 2, 3, 5, 8, 13]\n",
            "[1, 1, 2, 3, 5, 8, 13, 21]\n",
            "[1, 1, 2, 3, 5, 8, 13, 21, 34]\n",
            "34\n"
          ],
          "name": "stdout"
        }
      ]
    },
    {
      "cell_type": "markdown",
      "metadata": {
        "id": "_VLUPOehnvFZ"
      },
      "source": [
        "## Q05 - Dados dois números inteiros positivos, determinar o máximo divisor comum entre eles usando o algoritmo de Euclides. "
      ]
    },
    {
      "cell_type": "code",
      "metadata": {
        "colab": {
          "base_uri": "https://localhost:8080/"
        },
        "id": "obmVPv30oHh9",
        "outputId": "6ae89dec-62f8-4dad-e79e-2e01c24a6868"
      },
      "source": [
        "num1 = int(input('Digite o primeiro número: '))\n",
        "num2 = int(input('Digite o segundo número: '))\n",
        "\n",
        "dividendo = num1\n",
        "divisor = num2\n",
        "\n",
        "while True:\n",
        "  resto = dividendo % divisor\n",
        "  if resto == 0:\n",
        "    break\n",
        "  else:\n",
        "    dividendo = divisor\n",
        "    divisor = resto\n",
        "    \n",
        "print(\"O Mdc de {} com {} é {}\".format(num1, num2, divisor))"
      ],
      "execution_count": 5,
      "outputs": [
        {
          "output_type": "stream",
          "text": [
            "Digite o primeiro número: 32\n",
            "Digite o segundo número: 12\n",
            "O Mdc de 32 com 12 é 4\n"
          ],
          "name": "stdout"
        }
      ]
    }
  ]
}