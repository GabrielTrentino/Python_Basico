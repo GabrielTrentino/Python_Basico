{
  "nbformat": 4,
  "nbformat_minor": 0,
  "metadata": {
    "colab": {
      "name": "PPZ 01.ipynb",
      "provenance": []
    },
    "kernelspec": {
      "name": "python3",
      "display_name": "Python 3"
    },
    "language_info": {
      "name": "python"
    }
  },
  "cells": [
    {
      "cell_type": "markdown",
      "metadata": {
        "id": "2pavD-AfYzPe"
      },
      "source": [
        "# Lista de Exercício Python para Zumbis 01:"
      ]
    },
    {
      "cell_type": "markdown",
      "metadata": {
        "id": "02cFtGTwY5CF"
      },
      "source": [
        "## Q01 - Faça um programa que peça dois números inteiros e imprima a soma desses dois números."
      ]
    },
    {
      "cell_type": "code",
      "metadata": {
        "colab": {
          "base_uri": "https://localhost:8080/"
        },
        "id": "pL0ZS5NXYl4Z",
        "outputId": "6c4d8f1f-3294-4e0e-a878-a9b4f4a3b70d"
      },
      "source": [
        "num1 = int(input('Digite o primeiro número: '))\n",
        "num2 = int(input('Digite o segundo número: '))\n",
        "print('A soma de {} com {} = {}'.format(num1, num2, num1 + num2))"
      ],
      "execution_count": 1,
      "outputs": [
        {
          "output_type": "stream",
          "text": [
            "Digite o primeiro número: 6\n",
            "Digite o segundo número: 5\n",
            "A soma de 6 com 5 = 11\n"
          ],
          "name": "stdout"
        }
      ]
    },
    {
      "cell_type": "markdown",
      "metadata": {
        "id": "3AXX3LzRZZLE"
      },
      "source": [
        "## Q02 - Escreva um programa que leia um valor em metros e o exiba convertido em milímetros."
      ]
    },
    {
      "cell_type": "code",
      "metadata": {
        "colab": {
          "base_uri": "https://localhost:8080/"
        },
        "id": "efGwCUndZAlS",
        "outputId": "0efed633-ba78-44f1-d7e5-216c7a3e8781"
      },
      "source": [
        "num1 = int(input('Digite o valor em metros para converter em milímetros: '))\n",
        "print('{} metro em milímetros é {}'.format(num1, num1*1000))"
      ],
      "execution_count": 2,
      "outputs": [
        {
          "output_type": "stream",
          "text": [
            "Digite o valor em metros para converter em milímetros: 23\n",
            "23 metro em milímetros é 23000\n"
          ],
          "name": "stdout"
        }
      ]
    },
    {
      "cell_type": "markdown",
      "metadata": {
        "id": "QV-VWKDtZsZ3"
      },
      "source": [
        "## Q03 - Escreva um programa que leia a quantidade de dias, horas, minutos e segundos do usuário. Calcule o total em segundos."
      ]
    },
    {
      "cell_type": "code",
      "metadata": {
        "colab": {
          "base_uri": "https://localhost:8080/"
        },
        "id": "ctuLQybjZnlv",
        "outputId": "64ca8bb4-5d42-444b-b43e-49ad53109f41"
      },
      "source": [
        "dias = int(input('Digite os Dias: '))\n",
        "horas = int(input('Digite as Horas: '))\n",
        "minutos = int(input('Digite os Minutos: '))\n",
        "segundos = int(input('Digite os Segundos: '))\n",
        "\n",
        "total = ((dias*24 + horas)*60+minutos)*60+segundos\n",
        "\n",
        "print('{} dias, {} horas, {} minutos, {} segundos equivalem a: {} segundos'.format(dias, horas, minutos, segundos, total))"
      ],
      "execution_count": 3,
      "outputs": [
        {
          "output_type": "stream",
          "text": [
            "Digite os Dias: 3\n",
            "Digite as Horas: 6\n",
            "Digite os Minutos: 5\n",
            "Digite os Segundos: 2\n",
            "3 dias, 6 horas, 5 minutos, 2 segundos equivalem a: 281102 segundos\n"
          ],
          "name": "stdout"
        }
      ]
    },
    {
      "cell_type": "markdown",
      "metadata": {
        "id": "9cgRBQuUaZhh"
      },
      "source": [
        "## Q04 - Faça um programa que calcule o aumento de um salário. Ele deve solicitar o valor do salário e a porcentagem do aumento. Exiba o valor do aumento e do novo salário."
      ]
    },
    {
      "cell_type": "code",
      "metadata": {
        "colab": {
          "base_uri": "https://localhost:8080/"
        },
        "id": "3J1SqYpVaU-Y",
        "outputId": "4386403d-79b9-4eb3-8a0b-8ae9057eb602"
      },
      "source": [
        "sal = float(input('Digite o valor do salário: '))\n",
        "taxa = float(input('Digite a taxa de aumento: '))\n",
        "\n",
        "print('O novo salário é: {}'.format(sal*(100+taxa)/100))"
      ],
      "execution_count": 4,
      "outputs": [
        {
          "output_type": "stream",
          "text": [
            "Digite o valor do salário: 2000\n",
            "Digite a taxa de aumento: 6\n",
            "O novo salário é: 2120.0\n"
          ],
          "name": "stdout"
        }
      ]
    },
    {
      "cell_type": "markdown",
      "metadata": {
        "id": "DrswSlPkazQ2"
      },
      "source": [
        "## Q05 - Solicite o preço de uma mercadoria e o percentual de desconto. Exiba o valor do desconto e o preço a pagar."
      ]
    },
    {
      "cell_type": "code",
      "metadata": {
        "colab": {
          "base_uri": "https://localhost:8080/"
        },
        "id": "BBJpbwn1avjZ",
        "outputId": "ff4d80ff-91cc-431c-a8f2-acc8050f1014"
      },
      "source": [
        "preco = float(input('Digite o valor da mercadoria: '))\n",
        "taxa = float(input('Digite o desconto: '))\n",
        "\n",
        "print('O preço da mercadoria com desconto é: {}'.format(preco*(100-taxa)/100))"
      ],
      "execution_count": 5,
      "outputs": [
        {
          "output_type": "stream",
          "text": [
            "Digite o valor da mercadoria: 950\n",
            "Digite o desconto: 25\n",
            "O preço da mercadoria com desconto é: 712.5\n"
          ],
          "name": "stdout"
        }
      ]
    },
    {
      "cell_type": "markdown",
      "metadata": {
        "id": "Gh3s0JMYbEMG"
      },
      "source": [
        "## Q06 - Calcule o tempo de uma viagem de carro. Pergunte a distância a percorrer e a velocidade média esperada para a viagem."
      ]
    },
    {
      "cell_type": "code",
      "metadata": {
        "colab": {
          "base_uri": "https://localhost:8080/"
        },
        "id": "EnnQjoqZa-vf",
        "outputId": "92695542-7f24-4944-eb2d-8074fbe71070"
      },
      "source": [
        "dist = float(input('Qual a distância percorrida pelo carro? (Km) '))\n",
        "velocidade = float(input('Qual a velocidade média do carro? (Km/h) '))\n",
        "\n",
        "print('A viagem durou: {} horas'.format(dist/velocidade))"
      ],
      "execution_count": 6,
      "outputs": [
        {
          "output_type": "stream",
          "text": [
            "Qual a distância percorrida pelo carro? (Km) 300\n",
            "Qual a velocidade média do carro? (Km/h) 60\n",
            "A viagem durou: 5.0 horas\n"
          ],
          "name": "stdout"
        }
      ]
    },
    {
      "cell_type": "markdown",
      "metadata": {
        "id": "VKqzNzM9IQHR"
      },
      "source": [
        "## Q07 - Converta uma temperatura digitada em Celsius para Fahrenheit. F = 9*C/5 + 32"
      ]
    },
    {
      "cell_type": "code",
      "metadata": {
        "colab": {
          "base_uri": "https://localhost:8080/"
        },
        "id": "cV7GxXi6W1yD",
        "outputId": "90232d2b-cee3-469e-894a-5d57e2d5c81b"
      },
      "source": [
        "temp = float(input('Digite a temperatura em Clesius: '))\n",
        "print('{}°C em Fahrenheit é {}°F'.format(temp, (9*temp)/5+32))"
      ],
      "execution_count": 7,
      "outputs": [
        {
          "output_type": "stream",
          "text": [
            "Digite a temperatura em Clesius: 0\n",
            "0.0°C em Fahrenheit é 32.0°F\n"
          ],
          "name": "stdout"
        }
      ]
    },
    {
      "cell_type": "markdown",
      "metadata": {
        "id": "oJ7-EuTaXLuU"
      },
      "source": [
        "## Q08 - Faça agora o contrário, de Fahrenheit para Celsius."
      ]
    },
    {
      "cell_type": "code",
      "metadata": {
        "colab": {
          "base_uri": "https://localhost:8080/"
        },
        "id": "ckGqoROAYeJA",
        "outputId": "45b18d50-74e8-418d-bbe7-b44b91fe1082"
      },
      "source": [
        "temp = float(input('Digite a temperatura em Fahrenheit: '))\n",
        "print('{}°F em Celsius é {:.2f}°C'.format(temp, 5*(temp-32)/9))"
      ],
      "execution_count": 8,
      "outputs": [
        {
          "output_type": "stream",
          "text": [
            "Digite a temperatura em Fahrenheit: 32\n",
            "32.0°F em Celsius é 0.00°C\n"
          ],
          "name": "stdout"
        }
      ]
    },
    {
      "cell_type": "markdown",
      "metadata": {
        "id": "QDNsibkMYnNY"
      },
      "source": [
        "## Q09 - Escreva um programa que pergunte a quantidade de km percorridos por um carro alugado pelo usuário, assim como a quantidade de dias pelos quais o carro foi alugado. Calcule o preço a pagar, sabendo que o carro custa 60,00 reais por dia e R$ 0,15 por km rodado.\n"
      ]
    },
    {
      "cell_type": "code",
      "metadata": {
        "colab": {
          "base_uri": "https://localhost:8080/"
        },
        "id": "_p9z1csrZYga",
        "outputId": "783dcd55-c6c2-4350-f313-21f10d6b66f5"
      },
      "source": [
        "dist = float(input('Qual a quantidade de km percorridos? '))\n",
        "dias = int(input('Qual a quantidade de dias que o carro foi alugado? '))\n",
        "\n",
        "print('O Preço total à se pagar é de: R${:.2f}'.format(60*dias+0,15*dist))"
      ],
      "execution_count": 9,
      "outputs": [
        {
          "output_type": "stream",
          "text": [
            "Qual a quantidade de km percorridos? 90\n",
            "Qual a quantidade de dias que o carro foi alugado? 6\n",
            "O Preço total à se pagar é de: R$360.00\n"
          ],
          "name": "stdout"
        }
      ]
    },
    {
      "cell_type": "markdown",
      "metadata": {
        "id": "QJoD3sLrZv5u"
      },
      "source": [
        "## Q10 - Escreva um programa para calcular a redução do tempo de vida de um fumante. Pergunte a quantidade de cigarros fumados por dia e quantos anos ele já fumou. Considere que um fumante perde 10 minutos de vida a cada cigarro, calcule quantos dias de vida um fumante perderá. Exiba o total de dias.\n"
      ]
    },
    {
      "cell_type": "code",
      "metadata": {
        "colab": {
          "base_uri": "https://localhost:8080/"
        },
        "id": "nNexvQRPZ2m4",
        "outputId": "88fbfb65-20a0-43d8-cf47-320e3ff2c282"
      },
      "source": [
        "cig_por_dia = int(input('Qual a quantidade de cigarros consumidos por dia? '))\n",
        "anos = int(input('Quantos anos você ja fumou? '))\n",
        "\n",
        "perda = (((anos*365)*cig_por_dia*10)/60)/24\n",
        "print('Você perdeu {:.1f} dias da sua vida'.format(perda))"
      ],
      "execution_count": 10,
      "outputs": [
        {
          "output_type": "stream",
          "text": [
            "Qual a quantidade de cigarros consumidos por dia? 10\n",
            "Quantos anos você ja fumou? 3\n",
            "Você perdeu 76.0 dias da sua vida\n"
          ],
          "name": "stdout"
        }
      ]
    },
    {
      "cell_type": "markdown",
      "metadata": {
        "id": "9qmU342Iav-4"
      },
      "source": [
        "## Q11 - Sabendo que str( ) converte valores numéricos para string, calcule quantos dígitos há em 2 elevado a um milhão."
      ]
    },
    {
      "cell_type": "code",
      "metadata": {
        "colab": {
          "base_uri": "https://localhost:8080/"
        },
        "id": "OJp2Zu_ObCzj",
        "outputId": "11d10610-14bf-4969-c61a-bdd1ccf6064d"
      },
      "source": [
        "print('2*10^6 possue {} digitos'.format(len(str(2**1000000))))"
      ],
      "execution_count": 11,
      "outputs": [
        {
          "output_type": "stream",
          "text": [
            "2*10^6 possue 301030 digitos\n"
          ],
          "name": "stdout"
        }
      ]
    }
  ]
}