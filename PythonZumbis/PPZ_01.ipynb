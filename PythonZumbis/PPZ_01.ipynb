{
  "nbformat": 4,
  "nbformat_minor": 0,
  "metadata": {
    "colab": {
      "name": "PPZ 01.ipynb",
      "provenance": []
    },
    "kernelspec": {
      "name": "python3",
      "display_name": "Python 3"
    },
    "language_info": {
      "name": "python"
    }
  },
  "cells": [
    {
      "cell_type": "markdown",
      "metadata": {
        "id": "2pavD-AfYzPe"
      },
      "source": [
        "# Lista de Exercício Python para Zumbis 01:"
      ]
    },
    {
      "cell_type": "markdown",
      "metadata": {
        "id": "02cFtGTwY5CF"
      },
      "source": [
        "## Q01 - Faça um programa que peça dois números inteiros e imprima a soma desses dois números."
      ]
    },
    {
      "cell_type": "code",
      "metadata": {
        "colab": {
          "base_uri": "https://localhost:8080/"
        },
        "id": "pL0ZS5NXYl4Z",
        "outputId": "eab55fe5-076a-4481-f125-9c8882ae1ec5"
      },
      "source": [
        "num1 = int(input('Digite o primeiro número: '))\n",
        "num2 = int(input('Digite o segundo número: '))\n",
        "print('A soma de {} com {} = {}'.format(num1, num2, num1 + num2))"
      ],
      "execution_count": 1,
      "outputs": [
        {
          "output_type": "stream",
          "text": [
            "Digite o primeiro número: 4\n",
            "Digite o segundo número: 5\n",
            "A soma de 4 com 5 = 9\n"
          ],
          "name": "stdout"
        }
      ]
    },
    {
      "cell_type": "markdown",
      "metadata": {
        "id": "3AXX3LzRZZLE"
      },
      "source": [
        "## Q02 - Escreva um programa que leia um valor em metros e o exiba convertido em milímetros."
      ]
    },
    {
      "cell_type": "code",
      "metadata": {
        "colab": {
          "base_uri": "https://localhost:8080/"
        },
        "id": "efGwCUndZAlS",
        "outputId": "c58fc397-2edf-4356-81ce-e735041c9ec1"
      },
      "source": [
        "num1 = int(input('Digite o valor em metros para converter em milímetros: '))\n",
        "print('{} metro em milímetros é {}'.format(num1, num1*1000))"
      ],
      "execution_count": 2,
      "outputs": [
        {
          "output_type": "stream",
          "text": [
            "Digite o valor em metros para converter em milímetros: 3\n",
            "3 metro em milímetros é 3000\n"
          ],
          "name": "stdout"
        }
      ]
    },
    {
      "cell_type": "markdown",
      "metadata": {
        "id": "QV-VWKDtZsZ3"
      },
      "source": [
        "## Q03 - Escreva um programa que leia a quantidade de dias, horas, minutos e segundos do usuário. Calcule o total em segundos."
      ]
    },
    {
      "cell_type": "code",
      "metadata": {
        "colab": {
          "base_uri": "https://localhost:8080/"
        },
        "id": "ctuLQybjZnlv",
        "outputId": "37f31235-e431-4fae-c6e7-6128e0bc3321"
      },
      "source": [
        "dias = int(input('Digite os Dias: '))\n",
        "horas = int(input('Digite as Horas: '))\n",
        "minutos = int(input('Digite os Minutos: '))\n",
        "segundos = int(input('Digite os Segundos: '))\n",
        "\n",
        "total = ((dias*24 + horas)*60+minutos)*60+segundos\n",
        "\n",
        "print('{} dias, {} horas, {} minutos, {} segundos equivalem a: {} segundos'.format(dias, horas, minutos, segundos, total))"
      ],
      "execution_count": 3,
      "outputs": [
        {
          "output_type": "stream",
          "text": [
            "Digite os Dias: 2\n",
            "Digite as Horas: 5\n",
            "Digite os Minutos: 9\n",
            "Digite os Segundos: 8\n",
            "2 dias, 5 horas, 9 minutos, 8 segundos equivalem a: 191348 segundos\n"
          ],
          "name": "stdout"
        }
      ]
    },
    {
      "cell_type": "markdown",
      "metadata": {
        "id": "9cgRBQuUaZhh"
      },
      "source": [
        "## Q04 - Faça um programa que calcule o aumento de um salário. Ele deve solicitar o valor do salário e a porcentagem do aumento. Exiba o valor do aumento e do novo salário."
      ]
    },
    {
      "cell_type": "code",
      "metadata": {
        "colab": {
          "base_uri": "https://localhost:8080/"
        },
        "id": "3J1SqYpVaU-Y",
        "outputId": "1f7052a9-4d30-4713-b0b7-f93ded411acc"
      },
      "source": [
        "sal = float(input('Digite o valor do salário: '))\n",
        "taxa = float(input('Digite a taxa de aumento: '))\n",
        "\n",
        "print('O novo salário é: {}'.format(sal*(100+taxa)/100))"
      ],
      "execution_count": 4,
      "outputs": [
        {
          "output_type": "stream",
          "text": [
            "Digite o valor do salário: 2000\n",
            "Digite a taxa de aumento: 6\n",
            "O novo salário é: 2120.0\n"
          ],
          "name": "stdout"
        }
      ]
    },
    {
      "cell_type": "markdown",
      "metadata": {
        "id": "DrswSlPkazQ2"
      },
      "source": [
        "## Q05 - Solicite o preço de uma mercadoria e o percentual de desconto. Exiba o valor do desconto e o preço a pagar."
      ]
    },
    {
      "cell_type": "code",
      "metadata": {
        "colab": {
          "base_uri": "https://localhost:8080/"
        },
        "id": "BBJpbwn1avjZ",
        "outputId": "7af23751-d99c-44e6-ce93-c8d5891e63a2"
      },
      "source": [
        "preco = float(input('Digite o valor da mercadoria: '))\n",
        "taxa = float(input('Digite o desconto: '))\n",
        "\n",
        "print('O preço da mercadoria com desconto é: {}'.format(preco*(100-taxa)/100))"
      ],
      "execution_count": 5,
      "outputs": [
        {
          "output_type": "stream",
          "text": [
            "Digite o valor da mercadoria: 250\n",
            "Digite o desconto: 30\n",
            "O preço da mercadoria com desconto é: 175.0\n"
          ],
          "name": "stdout"
        }
      ]
    },
    {
      "cell_type": "markdown",
      "metadata": {
        "id": "Gh3s0JMYbEMG"
      },
      "source": [
        "## Q06 - Calcule o tempo de uma viagem de carro. Pergunte a distância a percorrer e a velocidade média esperada para a viagem."
      ]
    },
    {
      "cell_type": "code",
      "metadata": {
        "colab": {
          "base_uri": "https://localhost:8080/"
        },
        "id": "EnnQjoqZa-vf",
        "outputId": "7393080e-b07c-4890-9e78-8969e44e3ca1"
      },
      "source": [
        "dist = float(input('Qual a distância percorrida pelo carro? (Km) '))\n",
        "velocidade = float(input('Qual a velocidade média do carro? (Km/h) '))\n",
        "\n",
        "print('A viagem durou: {} horas'.format(dist/velocidade))"
      ],
      "execution_count": 6,
      "outputs": [
        {
          "output_type": "stream",
          "text": [
            "Qual a distância percorrida pelo carro? (Km) 120\n",
            "Qual a velocidade média do carro? (Km/h) 80\n",
            "A viagem durou: 1.5 horas\n"
          ],
          "name": "stdout"
        }
      ]
    }
  ]
}