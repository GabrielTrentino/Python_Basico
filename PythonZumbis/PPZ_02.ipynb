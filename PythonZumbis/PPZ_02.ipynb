{
  "nbformat": 4,
  "nbformat_minor": 0,
  "metadata": {
    "colab": {
      "name": "PPZ 02.ipynb",
      "provenance": []
    },
    "kernelspec": {
      "name": "python3",
      "display_name": "Python 3"
    },
    "language_info": {
      "name": "python"
    }
  },
  "cells": [
    {
      "cell_type": "markdown",
      "metadata": {
        "id": "ByjHKV4pdC90"
      },
      "source": [
        "# Lista de Exercício Python para Zumbis 02:"
      ]
    },
    {
      "cell_type": "markdown",
      "metadata": {
        "id": "NwIeRKZocDqB"
      },
      "source": [
        "## Q01 - Faça um Programa que peça os três lados de um triângulo. O programa deverá informar se os valores podem ser um triângulo. Indique, caso os lados formem um triângulo, se o mesmo é: equilátero, isósceles ou escaleno.\n"
      ]
    },
    {
      "cell_type": "code",
      "metadata": {
        "id": "UW0b-mj3c_U6",
        "colab": {
          "base_uri": "https://localhost:8080/"
        },
        "outputId": "8bf448a5-f080-4c36-b89a-3d16b860fb55"
      },
      "source": [
        "a = int(input('Qual o tamanho do primeiro lado? '))\n",
        "b = int(input('Qual o tamanho do segundo lado? '))\n",
        "c = int(input('Qual o tamanho do terceiro lado? '))\n",
        "\n",
        "if (a+b > c) & (a+c > b) & (c+b > a):\n",
        "  print('O triangulo pode existir e ele é: ',end='')\n",
        "  if (a == b) & (a == c):\n",
        "    print('equilátero')\n",
        "  elif (a==b) | (a==c) | (b==c):\n",
        "    print('isóceles')\n",
        "  else:\n",
        "    print('escaleno')\n",
        "else:\n",
        "  print('As três medidas não formam um triangulo')"
      ],
      "execution_count": 9,
      "outputs": [
        {
          "output_type": "stream",
          "text": [
            "Qual o tamanho do primeiro lado? 5\n",
            "Qual o tamanho do segundo lado? 4\n",
            "Qual o tamanho do terceiro lado? 1\n",
            "As três medidas não formam um triangulo\n"
          ],
          "name": "stdout"
        }
      ]
    },
    {
      "cell_type": "markdown",
      "metadata": {
        "id": "8fjjxbK3kEHa"
      },
      "source": [
        "## Q02 - Determine se um ano é bissexto."
      ]
    },
    {
      "cell_type": "code",
      "metadata": {
        "colab": {
          "base_uri": "https://localhost:8080/"
        },
        "id": "4D_SF4CElmE-",
        "outputId": "d3f577e2-ce4c-4efc-e9df-29b7fdda24ee"
      },
      "source": [
        "ano = int(input('Digite o ano para saber se ele é bissexto ou não: '))\n",
        "\n",
        "print('O ano {} '.format(ano), end='')\n",
        "if ano % 4 == 0:\n",
        "  print('é um ano bissexto')\n",
        "else:\n",
        "  print('não é um ano bissexto')"
      ],
      "execution_count": 12,
      "outputs": [
        {
          "output_type": "stream",
          "text": [
            "Digite o ano para saber se ele é bissexto ou não: 2000\n",
            "O ano 2000 é um ano bissexto\n"
          ],
          "name": "stdout"
        }
      ]
    },
    {
      "cell_type": "markdown",
      "metadata": {
        "id": "O6aJpj-jl9Ww"
      },
      "source": [
        "## Q03 - João Papo-de-Pescador, homem de bem, comprou um microcomputador para controlar o rendimento diário de seu trabalho. Toda vez que ele traz um peso de peixes maior que o estabelecido pelo regulamento de pesca do estado de São Paulo (50 quilos) deve pagar uma multa de R$ 4,00 por quilo excedente. João precisa que você faça um programa que leia a variável peso (peso de peixes) e verifique se há excesso. Se houver, gravar na variável excesso e na variável multa o valor da multa que João deverá pagar. Caso contrário mostrar tais variáveis com o conteúdo ZERO.\n"
      ]
    },
    {
      "cell_type": "code",
      "metadata": {
        "colab": {
          "base_uri": "https://localhost:8080/"
        },
        "id": "76pBDkHImcM5",
        "outputId": "a0bd6a03-5501-42fe-99b8-d88fa349e81c"
      },
      "source": [
        "multa_tot = 0\n",
        "while True:\n",
        "  peso = float(input('Qual o peso do peixe? '))\n",
        "  if peso > 50:\n",
        "    excesso = (peso-50)\n",
        "    multa = excesso*4\n",
        "    multa_tot += multa\n",
        "    print('O peixe excedeu {} quilos e terá uma multa de {:.2f} reais'.format(excesso, multa))\n",
        "  else:\n",
        "    print('O peixe pesado não implicará em multa')\n",
        "  chave = int(input('Deseja continuar? Digite 1 pra continuar e 0 para sair: '))\n",
        "  if chave == 0:\n",
        "    break\n",
        "print('O total de multa foi de: {} reais'.format(multa_tot))"
      ],
      "execution_count": 17,
      "outputs": [
        {
          "output_type": "stream",
          "text": [
            "Qual o peso do peixe? 55\n",
            "O peixe excedeu 5.0 quilos e terá uma multa de 20.00 reais\n",
            "Deseja continuar? Digite 1 pra continuar e 0 para sair: 1\n",
            "Qual o peso do peixe? 60\n",
            "O peixe excedeu 10.0 quilos e terá uma multa de 40.00 reais\n",
            "Deseja continuar? Digite 1 pra continuar e 0 para sair: 0\n",
            "O total de multa foi de: 40.0 reais\n"
          ],
          "name": "stdout"
        }
      ]
    },
    {
      "cell_type": "markdown",
      "metadata": {
        "id": "1Ue0nSXEn3OR"
      },
      "source": [
        "## Q04 - Faça um Programa que leia três números e mostre o maior deles"
      ]
    },
    {
      "cell_type": "code",
      "metadata": {
        "colab": {
          "base_uri": "https://localhost:8080/"
        },
        "id": "loM52o-Ko9lW",
        "outputId": "bd15c8b9-ccf2-47e9-f7d1-11a76b1ef8bd"
      },
      "source": [
        "num1 = float(input('Digite o primeiro numero: '))\n",
        "num2 = float(input('Digite o segundo numero: '))\n",
        "num3 = float(input('Digite o terceiro numero: '))\n",
        "\n",
        "print('O maior número é o ', end='')\n",
        "if (num1 > num2) & (num1 > num3):\n",
        "  print(num1)\n",
        "elif (num2 > num1) & (num2 > num3):\n",
        "  print(num2)\n",
        "else:\n",
        "  print(num3)"
      ],
      "execution_count": 18,
      "outputs": [
        {
          "output_type": "stream",
          "text": [
            "Digite o primeiro numero: 3\n",
            "Digite o segundo numero: 4\n",
            "Digite o terceiro numero: 5\n",
            "O maior número é o 5.0\n"
          ],
          "name": "stdout"
        }
      ]
    },
    {
      "cell_type": "markdown",
      "metadata": {
        "id": "Cf4t4GEmphtk"
      },
      "source": [
        "## Q05 - Faça um Programa que leia três números e mostre o maior e o menor deles."
      ]
    },
    {
      "cell_type": "code",
      "metadata": {
        "colab": {
          "base_uri": "https://localhost:8080/"
        },
        "id": "Xu81dlCypu1e",
        "outputId": "b58c3c48-c310-4003-b0f8-efb76b1ae426"
      },
      "source": [
        "num1 = float(input('Digite o primeiro numero: '))\n",
        "num2 = float(input('Digite o segundo numero: '))\n",
        "num3 = float(input('Digite o terceiro numero: '))\n",
        "\n",
        "print('O menor número é o ', end='')\n",
        "if (num1 < num2) & (num1 < num3):\n",
        "  print(num1)\n",
        "elif (num2 < num1) & (num2 < num3):\n",
        "  print(num2)\n",
        "else:\n",
        "  print(num3)"
      ],
      "execution_count": 19,
      "outputs": [
        {
          "output_type": "stream",
          "text": [
            "Digite o primeiro numero: 3\n",
            "Digite o segundo numero: 5\n",
            "Digite o terceiro numero: 2\n",
            "O menor número é o 2.0\n"
          ],
          "name": "stdout"
        }
      ]
    },
    {
      "cell_type": "markdown",
      "metadata": {
        "id": "56cjfE1sp0D6"
      },
      "source": [
        "## Q06 - Faça um Programa que pergunte quanto você ganha por hora e o número de horas trabalhadas no mês. Calcule e mostre o total do seu salário no referido mês, sabendo-se que são descontados 11% para o Imposto de Renda, 8% para o INSS e 5% para o sindicato, faça um programa que nos dê o salário bruto, quanto pagou ao INSS, quanto pagou ao sindicato e o salário líquido. Observe que Salário Bruto - Descontos = Salário Líquido. Calcule os descontos e o salário líquido, conforme a tabela abaixo:\n",
        "\n",
        "* a. + Salário Bruto : R\n",
        "* b. - IR (11%) : R\n",
        "* c. - INSS (8%) : R\n",
        "* d. - Sindicato ( 5%) : R\n",
        "* e. = Salário Liquido : R"
      ]
    },
    {
      "cell_type": "code",
      "metadata": {
        "colab": {
          "base_uri": "https://localhost:8080/"
        },
        "id": "TuUHqy-wqDS9",
        "outputId": "9897c692-7e4a-4bc4-8bab-f06c16d6029c"
      },
      "source": [
        "ganho_hora = float(input('Quantos reais você ganha a hora? '))\n",
        "horas_trabalhadas = int(input('Quantas horas você trabalhou nesse mês? '))\n",
        "\n",
        "Sal_bruto = ganho_hora*horas_trabalhadas\n",
        "IR = 0.11 * Sal_bruto\n",
        "INSS = 0.08 * Sal_bruto\n",
        "Sind = 0.05 * Sal_bruto\n",
        "Sal_Liquido = Sal_bruto - IR - INSS - Sind\n",
        "\n",
        "print('+ Salário Bruto R ', Sal_bruto)\n",
        "print('- IR R ', IR)\n",
        "print('- INSS R', INSS)\n",
        "print('- Sindicato', Sind)\n",
        "print('= Salário Liquido ', Sal_Liquido)"
      ],
      "execution_count": 21,
      "outputs": [
        {
          "output_type": "stream",
          "text": [
            "Quantos reais você ganha a hora? 80\n",
            "Quantas horas você trabalhou nesse mês? 30\n",
            "+ Salário Bruto R  2400.0\n",
            "- IR R  264.0\n",
            "- INSS R 192.0\n",
            "- Sindicato 120.0\n",
            "= Salário Liquido  1824.0\n"
          ],
          "name": "stdout"
        }
      ]
    },
    {
      "cell_type": "markdown",
      "metadata": {
        "id": "PrMSKCzJq6sG"
      },
      "source": [
        "## Q07 - Faça um programa para uma loja de tintas. O programa deverá pedir o tamanho em metros quadrados da área a ser pintada. Considere que a cobertura da tinta é de 1 litro para cada 3 metros quadrados e que a tinta é vendida em latas de 18 litros, que custam R$ 80,00. Informe ao usuário a quantidades de latas de tinta a serem compradas e o preço total. Obs. : somente são vendidos um número inteiro de latas."
      ]
    },
    {
      "cell_type": "code",
      "metadata": {
        "id": "WFScAWr_s3u-"
      },
      "source": [
        ""
      ],
      "execution_count": null,
      "outputs": []
    }
  ]
}