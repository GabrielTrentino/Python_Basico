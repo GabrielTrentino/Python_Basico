{
  "nbformat": 4,
  "nbformat_minor": 0,
  "metadata": {
    "colab": {
      "name": "PPZ 03 - Lista b.ipynb",
      "provenance": []
    },
    "kernelspec": {
      "name": "python3",
      "display_name": "Python 3"
    },
    "language_info": {
      "name": "python"
    }
  },
  "cells": [
    {
      "cell_type": "markdown",
      "metadata": {
        "id": "D7LdgWupzdqE"
      },
      "source": [
        "# Lista de Exercícios Python para Zumbis 3 - Lista b"
      ]
    },
    {
      "cell_type": "markdown",
      "metadata": {
        "id": "zverrVa5zjly"
      },
      "source": [
        "## Q01 - . Dizemos que um número natural é triangular se ele é produto de três números naturais consecutivos. Exemplo: 120 é triangular, pois 4.5.6 = 120. Dado um inteiro não-negativo n, verificar se n é triangular."
      ]
    },
    {
      "cell_type": "code",
      "metadata": {
        "id": "0V6hrgj0zoiS",
        "colab": {
          "base_uri": "https://localhost:8080/"
        },
        "outputId": "46b2494c-3aaa-4705-e7eb-98f27e2b8ef8"
      },
      "source": [
        "num = int(input('Digite um número para saber se ele é triangular '))\n",
        "num1 = 1\n",
        "num2 = 2\n",
        "num3 = 3\n",
        "while True:\n",
        "  if num1*num2*num3 == num:\n",
        "    print('{} é um número triangular de {}, {} e {}'.format(num, num1, num2, num3))\n",
        "    break\n",
        "  elif num1*num2*num3 < num:\n",
        "    num1+=1\n",
        "    num2+=1\n",
        "    num3+=1\n",
        "  else:\n",
        "    print('Esse número não é triangular')\n",
        "    break"
      ],
      "execution_count": 1,
      "outputs": [
        {
          "output_type": "stream",
          "text": [
            "Digite um número para saber se ele é triangular 9240\n",
            "9240 é um número triangular de 20, 21 e 22\n"
          ],
          "name": "stdout"
        }
      ]
    },
    {
      "cell_type": "markdown",
      "metadata": {
        "id": "keIVgA5n87fU"
      },
      "source": [
        "## Q02 - Indique como um troco deve ser dado utilizando-se um número mínimo de notas. Seu algoritmo deve ler o valor da conta a ser paga e o valor do pagamento efetuado desprezando os centavos. Suponha que as notas para troco sejam as de 50, 20, 10, 5, 2 e 1 reais, e que nenhuma delas esteja em falta no caixa.\n"
      ]
    },
    {
      "cell_type": "code",
      "metadata": {
        "colab": {
          "base_uri": "https://localhost:8080/"
        },
        "id": "P5ryBBxj9pYR",
        "outputId": "d0e16fd5-63ab-4270-b602-09c6529ad1a3"
      },
      "source": [
        "troco = int(input('Digite o troco: '))\n",
        "cedulas = [50, 20, 10, 5, 2, 1]\n",
        "\n",
        "print('Serão necessários: ', end='')\n",
        "for i in cedulas:\n",
        "  if troco // i == 0:\n",
        "    continue\n",
        "  print('{} notas de {}'.format(troco // i, i), end=', ')\n",
        "  troco = troco % i"
      ],
      "execution_count": 2,
      "outputs": [
        {
          "output_type": "stream",
          "text": [
            "Digite o troco: 358\n",
            "Serão necessários: 7 notas de 50, 1 notas de 5, 1 notas de 2, 1 notas de 1, "
          ],
          "name": "stdout"
        }
      ]
    },
    {
      "cell_type": "markdown",
      "metadata": {
        "id": "4ncTMHdJAIKE"
      },
      "source": [
        "## Q03 - Verifique se um inteiro positivo n é primo.\n"
      ]
    },
    {
      "cell_type": "code",
      "metadata": {
        "colab": {
          "base_uri": "https://localhost:8080/"
        },
        "id": "21ZeGSP4A7rr",
        "outputId": "53b90dd0-e337-46ae-c3a6-0f0134fec10f"
      },
      "source": [
        "num = int(input('Digite um número para saber se é primo ou não: '))\n",
        "flag = 0\n",
        "for i in range(2, num):\n",
        "  if num % i == 0:\n",
        "    print('O número não é primo. Ele foi dividido por {}'.format(i))\n",
        "    flag+=1\n",
        "    break\n",
        "if flag == 0:\n",
        "  print('O número é primo')"
      ],
      "execution_count": 3,
      "outputs": [
        {
          "output_type": "stream",
          "text": [
            "Digite um número para saber se é primo ou não: 3768\n",
            "O número não é primo. Ele foi dividido por 2\n"
          ],
          "name": "stdout"
        }
      ]
    },
    {
      "cell_type": "markdown",
      "metadata": {
        "id": "gk2Xuuk1BXEM"
      },
      "source": [
        "## Q04 - Dado um número inteiro positivo, determine a sua decomposição em fatores primos calculando também a multiplicidade de cada fator."
      ]
    },
    {
      "cell_type": "code",
      "metadata": {
        "colab": {
          "base_uri": "https://localhost:8080/"
        },
        "id": "QMffzRMUCDXj",
        "outputId": "eab60065-0c0b-4424-9c2f-a9fb67d4d440"
      },
      "source": [
        "num = int(input('Digite um numero (>1): '))\n",
        "\n",
        "fator = 2 \n",
        "while num != 1:\n",
        "    mult = 0;\n",
        "    while num%fator == 0:\n",
        "        num = num / fator;\n",
        "        mult = mult + 1;\n",
        "\n",
        "    if mult != 0:\n",
        "        print('fator {} multiplicidade {}'.format(fator, mult))\n",
        "\n",
        "    fator = fator + 1"
      ],
      "execution_count": 4,
      "outputs": [
        {
          "output_type": "stream",
          "text": [
            "Digite um numero (>1): 120\n",
            "fator 2 multiplicidade 3\n",
            "fator 3 multiplicidade 1\n",
            "fator 5 multiplicidade 1\n"
          ],
          "name": "stdout"
        }
      ]
    },
    {
      "cell_type": "markdown",
      "metadata": {
        "id": "P3ww1RXOEDpd"
      },
      "source": [
        "## Q05 - Faça um programa que peça um inteiro positivo e o mostre invertido. Ex.: 1234 gera 4321"
      ]
    },
    {
      "cell_type": "code",
      "metadata": {
        "colab": {
          "base_uri": "https://localhost:8080/"
        },
        "id": "6UAmjOFwEPpE",
        "outputId": "65d6840a-637e-437f-d53c-26aa01db7466"
      },
      "source": [
        "num = str(input('Digite um número para ser invertido: '))\n",
        "comp = len(num)-1\n",
        "num_invert = []\n",
        "while comp >= 0:\n",
        "\tnum_invert.append(num[comp])\n",
        "\tcomp -= 1\n",
        "\n",
        "num_invert = ''.join(map(str, num_invert))\n",
        "\n",
        "print('{} ficou {}'.format(num, num_invert))"
      ],
      "execution_count": 5,
      "outputs": [
        {
          "output_type": "stream",
          "text": [
            "Digite um número para ser invertido: 356985\n",
            "356985 ficou 589653\n"
          ],
          "name": "stdout"
        }
      ]
    }
  ]
}