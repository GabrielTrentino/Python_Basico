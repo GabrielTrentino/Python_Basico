{
  "nbformat": 4,
  "nbformat_minor": 0,
  "metadata": {
    "colab": {
      "name": "PPZ 04.ipynb",
      "provenance": []
    },
    "kernelspec": {
      "name": "python3",
      "display_name": "Python 3"
    },
    "language_info": {
      "name": "python"
    }
  },
  "cells": [
    {
      "cell_type": "markdown",
      "metadata": {
        "id": "Cicqraumd4lo"
      },
      "source": [
        "## Q01 - Sorteie 10 inteiros entre 1 e 100 para uma lista e descubra o maior e o menor valor, sem usar as funções max e min"
      ]
    },
    {
      "cell_type": "code",
      "metadata": {
        "colab": {
          "base_uri": "https://localhost:8080/"
        },
        "id": "w8rIVdQeeBJe",
        "outputId": "9e83624d-5682-47ce-b732-fd88823b3756"
      },
      "source": [
        "import random\n",
        "\n",
        "numeros = [random.randint(1,100) for _ in range(10)]\n",
        "max, min = 0, 100\n",
        "for num in numeros:\n",
        "  if num > max:\n",
        "    max = num\n",
        "  if num < min:\n",
        "    min = num\n",
        "print(numeros)\n",
        "print('O maior número é {} e o menor é {}'.format(max, min))"
      ],
      "execution_count": 1,
      "outputs": [
        {
          "output_type": "stream",
          "text": [
            "[18, 91, 44, 2, 27, 31, 23, 91, 89, 43]\n",
            "O maior número é 91 e o menor é 2\n"
          ],
          "name": "stdout"
        }
      ]
    },
    {
      "cell_type": "markdown",
      "metadata": {
        "id": "dQQBRk1eeLGz"
      },
      "source": [
        "## Q02 - Sorteie 20 inteiros entre 1 e 100 num a lista. Armazene os números  ares na lista PAR e os números ímpares na lista IMPAR. Imprima as três listas."
      ]
    },
    {
      "cell_type": "code",
      "metadata": {
        "colab": {
          "base_uri": "https://localhost:8080/"
        },
        "id": "nX0jJ37ZfHts",
        "outputId": "f89b6ed0-0681-45f9-ac48-b448ee316029"
      },
      "source": [
        "import random\n",
        "numeros = [random.randint(1, 100) for _ in range(20)]\n",
        "lista_par, lista_impar = [], []\n",
        "for num in numeros:\n",
        "  if num % 2 == 0:\n",
        "    lista_par.append(num)\n",
        "  else:\n",
        "    lista_impar.append(num)\n",
        "\n",
        "print(numeros, len(numeros))\n",
        "print(lista_par, len(lista_par))\n",
        "print(lista_impar, len(lista_impar))"
      ],
      "execution_count": 2,
      "outputs": [
        {
          "output_type": "stream",
          "text": [
            "[94, 95, 72, 98, 91, 65, 58, 48, 70, 88, 30, 24, 89, 9, 97, 11, 8, 56, 96, 91] 20\n",
            "[94, 72, 98, 58, 48, 70, 88, 30, 24, 8, 56, 96] 12\n",
            "[95, 91, 65, 89, 9, 97, 11, 91] 8\n"
          ],
          "name": "stdout"
        }
      ]
    },
    {
      "cell_type": "markdown",
      "metadata": {
        "id": "AfIAsEgzffLj"
      },
      "source": [
        "## Q03 - Faça um programa que crie dois vetores com 10 elementos aleatórios entre 1 e 100. Gere um terceiro vetor de 20 elementos, cujos valores deverão ser compostos pelos elementos intercalados dos dois outros vetores. Imprima os três vetores"
      ]
    },
    {
      "cell_type": "code",
      "metadata": {
        "colab": {
          "base_uri": "https://localhost:8080/"
        },
        "id": "RmP6H1-cgF10",
        "outputId": "9a977e08-6207-43f6-ca08-c1281ab11782"
      },
      "source": [
        "lista1, lista2 = [random.randint(1,100) for _ in range(10)], [random.randint(1,100) for _ in range(10)]\n",
        "lista3 = []\n",
        "pos = 0\n",
        "while len(lista3) < 20:\n",
        "  lista3.append(lista1[pos])\n",
        "  lista3.append(lista2[pos])\n",
        "  pos += 1\n",
        "print(lista1, len(lista1))\n",
        "print(lista2, len(lista2))\n",
        "print(lista3, len(lista3))"
      ],
      "execution_count": 3,
      "outputs": [
        {
          "output_type": "stream",
          "text": [
            "[7, 86, 76, 2, 32, 59, 64, 26, 8, 69] 10\n",
            "[89, 37, 82, 14, 72, 53, 31, 88, 62, 29] 10\n",
            "[7, 89, 86, 37, 76, 82, 2, 14, 32, 72, 59, 53, 64, 31, 26, 88, 8, 62, 69, 29] 20\n"
          ],
          "name": "stdout"
        }
      ]
    },
    {
      "cell_type": "markdown",
      "metadata": {
        "id": "3_-Ac2TzgrmJ"
      },
      "source": [
        "## Q04 - Seja o statement sobre diversidade: “The Python Software Foundation and the global Python community welcome and encourage participation by everyone. Our community is based on mutual respect, tolerance, and encouragement, and we are working to help each other live up to these principles. We want our community to be more diverse : whoever you are, and whatever your background, we welcome you.”. Gere uma lista de palavras deste texto com split(), a seguir crie uma lista com as palavras que começam ou terminam com uma das letras “python”. Imprima a lista resultante. Não se esqueça de remover antes os caracteres especiais e cuidado com maiúsculas e minúsculas."
      ]
    },
    {
      "cell_type": "code",
      "metadata": {
        "colab": {
          "base_uri": "https://localhost:8080/"
        },
        "id": "h4-mkL_dhHys",
        "outputId": "954477db-a539-4bd9-a58b-51f59a6c2040"
      },
      "source": [
        "import re\n",
        "texto = '''The Python Software Foundation and the global Python community welcome\n",
        "           and encourage participation by everyone. Our community is based on\n",
        "           mutual respect, tolerance, and encouragement, and we are working to \n",
        "           help each other live up to these principles. We want our community to\n",
        "           be more diverse : whoever you are, and whatever your background,\n",
        "           we welcome you.'''\n",
        "texto = re.sub('[!@#$,.]', '', texto)\n",
        "palavras = texto.split()\n",
        "lista = [x for x in palavras if x[0].lower() in 'python' or x[-1].lower() in 'python']\n",
        "\n",
        "print(lista)"
      ],
      "execution_count": 4,
      "outputs": [
        {
          "output_type": "stream",
          "text": [
            "['The', 'Python', 'Foundation', 'the', 'Python', 'community', 'participation', 'by', 'Our', 'community', 'on', 'respect', 'tolerance', 'encouragement', 'to', 'help', 'each', 'other', 'up', 'to', 'these', 'principles', 'want', 'our', 'community', 'to', 'you', 'your', 'you']\n"
          ],
          "name": "stdout"
        }
      ]
    },
    {
      "cell_type": "markdown",
      "metadata": {
        "id": "DJTvGe6eh2BM"
      },
      "source": [
        "## Q05 - Seja o mesmo texto acima “splitado”. Calcule quantas palavras possuem uma das letras “python” e que tenham mais de 4 caracteres. Não se esqueça de transfor mar maiúsculas para minúsculas e de remover antes os caracteres especiais."
      ]
    },
    {
      "cell_type": "code",
      "metadata": {
        "colab": {
          "base_uri": "https://localhost:8080/"
        },
        "id": "Xyw6M8Qskxkc",
        "outputId": "414c01aa-fecf-49cb-9957-077031ba2496"
      },
      "source": [
        "texto = '''The Python Software Foundation and the global Python community welcome\n",
        "           and encourage participation by everyone. Our community is based on\n",
        "           mutual respect, tolerance, and encouragement, and we are working to \n",
        "           help each other live up to these principles. We want our community to\n",
        "           be more diverse : whoever you are, and whatever your background,\n",
        "           we welcome you.'''\n",
        "texto = re.sub('[!@#$,.]', '', texto)\n",
        "palavras = texto.split()\n",
        "lista = [x for x in palavras if x[0].lower() in 'python' or x[-1].lower() in 'python']\n",
        "lista = [i for i in lista if len(i)>4]\n",
        "print(len(lista), lista)"
      ],
      "execution_count": 5,
      "outputs": [
        {
          "output_type": "stream",
          "text": [
            "13 ['Python', 'Foundation', 'Python', 'community', 'participation', 'community', 'respect', 'tolerance', 'encouragement', 'other', 'these', 'principles', 'community']\n"
          ],
          "name": "stdout"
        }
      ]
    }
  ]
}