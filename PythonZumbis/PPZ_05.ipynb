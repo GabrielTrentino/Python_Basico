{
  "nbformat": 4,
  "nbformat_minor": 0,
  "metadata": {
    "colab": {
      "name": "PPZ 05.ipynb",
      "provenance": []
    },
    "kernelspec": {
      "name": "python3",
      "display_name": "Python 3"
    },
    "language_info": {
      "name": "python"
    }
  },
  "cells": [
    {
      "cell_type": "markdown",
      "metadata": {
        "id": "108eWw7ElRZ2"
      },
      "source": [
        "## Questão A. O que o seguinte programa (dado na forma de pseucódigo) imprime?\n",
        "x = 2\n",
        "\n",
        "y = 5\n",
        "\n",
        "se y > 8 então\n",
        "\n",
        "  ->y = y * 2\n",
        "\n",
        "caso contrário,\n",
        "\n",
        "  ->x = x * 2\n",
        "\n",
        "imprime (x + y)"
      ]
    },
    {
      "cell_type": "code",
      "metadata": {
        "colab": {
          "base_uri": "https://localhost:8080/"
        },
        "id": "_40Obbb0mxbB",
        "outputId": "d66bea8b-968c-49db-d6c0-8db4bb0f09f1"
      },
      "source": [
        "x, y = 2, 5\n",
        "if y > 8:\n",
        "  y = y*2\n",
        "else:\n",
        "  x = x*2\n",
        "print(x+y)"
      ],
      "execution_count": 1,
      "outputs": [
        {
          "output_type": "stream",
          "text": [
            "9\n"
          ],
          "name": "stdout"
        }
      ]
    },
    {
      "cell_type": "markdown",
      "metadata": {
        "id": "-YWZdfAIm4pd"
      },
      "source": [
        "## Questão B. Quantas vezes o trecho de pseudocódigo seguinte imprime 'oi'? (obs: na nossa pseudo - linguagem, o laço inclui os extremos, ou seja, 1 até 4 significa 1, 2, 3, 4.\n",
        "\n",
        "para i = 1 até 9\n",
        "\n",
        "->se i != 3, então\n",
        "\n",
        "->->para j = 1 até 6\n",
        "\n",
        "->->->imprime 'oi'"
      ]
    },
    {
      "cell_type": "code",
      "metadata": {
        "colab": {
          "base_uri": "https://localhost:8080/"
        },
        "id": "Rkq6kNifnL7A",
        "outputId": "2aef40e6-3996-4728-c2f3-ec3553b1e70c"
      },
      "source": [
        "flag = 0\n",
        "for i in range(1,10):\n",
        "  if i != 3:\n",
        "    for j in range(1,7):\n",
        "      flag+=1\n",
        "print(flag)"
      ],
      "execution_count": 2,
      "outputs": [
        {
          "output_type": "stream",
          "text": [
            "48\n"
          ],
          "name": "stdout"
        }
      ]
    },
    {
      "cell_type": "markdown",
      "metadata": {
        "id": "FA5levtynocf"
      },
      "source": [
        "## Questão C. Entre 1067 e 3627 (inclusive), quantos números são pares e também divisíveis por 7?"
      ]
    },
    {
      "cell_type": "code",
      "metadata": {
        "colab": {
          "base_uri": "https://localhost:8080/"
        },
        "id": "89Zc7pwGn6NQ",
        "outputId": "aaf246f8-b94d-47c8-a3e5-e45d0baa572b"
      },
      "source": [
        "flag = 0\n",
        "for i in range(1067, 3628):\n",
        "  if i % 2 == 0:\n",
        "    if i % 7 == 0:\n",
        "      flag += 1\n",
        "print(flag)"
      ],
      "execution_count": 3,
      "outputs": [
        {
          "output_type": "stream",
          "text": [
            "183\n"
          ],
          "name": "stdout"
        }
      ]
    }
  ]
}